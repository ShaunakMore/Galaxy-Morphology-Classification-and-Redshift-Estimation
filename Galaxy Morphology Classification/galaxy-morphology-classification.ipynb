{
 "cells": [
  {
   "cell_type": "code",
   "execution_count": null,
   "metadata": {},
   "outputs": [
    {
     "name": "stdout",
     "output_type": "stream",
     "text": [
      "Using device: cuda\n",
      "Data directory found: Decals_data/Decals_data_images\n",
      "First few files in directory: ['image_9483_5.png', 'image_15099_8.png', 'image_9226_5.png', 'image_16911_9.png', 'image_3980_2.png']\n",
      "Dataset loaded with 17736 images\n",
      "Class distribution: Counter({2: 2645, 7: 2628, 5: 2043, 3: 2027, 9: 1873, 1: 1853, 6: 1829, 8: 1423, 0: 1081, 4: 334})\n",
      "Dataset contains 17736 samples\n",
      "Sample image filenames: ['image_9483_5.png', 'image_15099_8.png', 'image_9226_5.png']\n",
      "\n",
      "==================== FOLD 1/5 ====================\n"
     ]
    },
    {
     "name": "stderr",
     "output_type": "stream",
     "text": [
      "/root/miniconda3/envs/myenv/lib/python3.9/site-packages/torch/optim/lr_scheduler.py:62: UserWarning: The verbose parameter is deprecated. Please use get_last_lr() to access the learning rate.\n",
      "  warnings.warn(\n",
      "Epoch 1/30 (Fold 1): 100%|███████████████████████████████████████████████████████████████████████████████████████████████████████| 444/444 [01:06<00:00,  6.67it/s, loss=2.04, accuracy=24.6]\n"
     ]
    },
    {
     "name": "stdout",
     "output_type": "stream",
     "text": [
      "\n",
      "Epoch 1/30 (Fold 1): Validation Loss: 1.8693, Accuracy: 27.79%\n"
     ]
    },
    {
     "name": "stderr",
     "output_type": "stream",
     "text": [
      "Epoch 2/30 (Fold 1): 100%|███████████████████████████████████████████████████████████████████████████████████████████████████████| 444/444 [01:06<00:00,  6.71it/s, loss=1.73, accuracy=33.6]\n"
     ]
    },
    {
     "name": "stdout",
     "output_type": "stream",
     "text": [
      "\n",
      "Epoch 2/30 (Fold 1): Validation Loss: 1.5027, Accuracy: 42.02%\n"
     ]
    },
    {
     "name": "stderr",
     "output_type": "stream",
     "text": [
      "Epoch 3/30 (Fold 1): 100%|███████████████████████████████████████████████████████████████████████████████████████████████████████| 444/444 [01:06<00:00,  6.70it/s, loss=1.54, accuracy=41.2]\n"
     ]
    },
    {
     "name": "stdout",
     "output_type": "stream",
     "text": [
      "\n",
      "Epoch 3/30 (Fold 1): Validation Loss: 1.5093, Accuracy: 41.26%\n"
     ]
    },
    {
     "name": "stderr",
     "output_type": "stream",
     "text": [
      "Epoch 4/30 (Fold 1): 100%|████████████████████████████████████████████████████████████████████████████████████████████████████████| 444/444 [01:05<00:00,  6.75it/s, loss=1.4, accuracy=48.2]\n"
     ]
    },
    {
     "name": "stdout",
     "output_type": "stream",
     "text": [
      "\n",
      "Epoch 4/30 (Fold 1): Validation Loss: 1.4695, Accuracy: 47.35%\n"
     ]
    },
    {
     "name": "stderr",
     "output_type": "stream",
     "text": [
      "Epoch 5/30 (Fold 1): 100%|███████████████████████████████████████████████████████████████████████████████████████████████████████| 444/444 [01:06<00:00,  6.72it/s, loss=1.27, accuracy=53.6]\n"
     ]
    },
    {
     "name": "stdout",
     "output_type": "stream",
     "text": [
      "\n",
      "Epoch 5/30 (Fold 1): Validation Loss: 1.2263, Accuracy: 54.17%\n"
     ]
    },
    {
     "name": "stderr",
     "output_type": "stream",
     "text": [
      "Epoch 6/30 (Fold 1): 100%|█████████████████████████████████████████████████████████████████████████████████████████████████████████| 444/444 [01:06<00:00,  6.68it/s, loss=1.18, accuracy=58]\n"
     ]
    },
    {
     "name": "stdout",
     "output_type": "stream",
     "text": [
      "\n",
      "Epoch 6/30 (Fold 1): Validation Loss: 1.1453, Accuracy: 59.08%\n"
     ]
    },
    {
     "name": "stderr",
     "output_type": "stream",
     "text": [
      "Epoch 7/30 (Fold 1): 100%|████████████████████████████████████████████████████████████████████████████████████████████████████████| 444/444 [01:05<00:00,  6.75it/s, loss=1.1, accuracy=60.4]\n"
     ]
    },
    {
     "name": "stdout",
     "output_type": "stream",
     "text": [
      "\n",
      "Epoch 7/30 (Fold 1): Validation Loss: 1.1166, Accuracy: 58.99%\n"
     ]
    },
    {
     "name": "stderr",
     "output_type": "stream",
     "text": [
      "Epoch 8/30 (Fold 1): 100%|███████████████████████████████████████████████████████████████████████████████████████████████████████| 444/444 [01:05<00:00,  6.75it/s, loss=1.05, accuracy=63.2]\n"
     ]
    },
    {
     "name": "stdout",
     "output_type": "stream",
     "text": [
      "\n",
      "Epoch 8/30 (Fold 1): Validation Loss: 1.3099, Accuracy: 56.96%\n",
      "EarlyStopping counter: 1 out of 5\n"
     ]
    },
    {
     "name": "stderr",
     "output_type": "stream",
     "text": [
      "Epoch 9/30 (Fold 1): 100%|██████████████████████████████████████████████████████████████████████████████████████████████████████| 444/444 [01:06<00:00,  6.66it/s, loss=0.981, accuracy=65.8]\n"
     ]
    },
    {
     "name": "stdout",
     "output_type": "stream",
     "text": [
      "\n",
      "Epoch 9/30 (Fold 1): Validation Loss: 0.9545, Accuracy: 66.12%\n"
     ]
    },
    {
     "name": "stderr",
     "output_type": "stream",
     "text": [
      "Epoch 10/30 (Fold 1): 100%|█████████████████████████████████████████████████████████████████████████████████████████████████████| 444/444 [01:07<00:00,  6.56it/s, loss=0.927, accuracy=67.7]\n"
     ]
    },
    {
     "name": "stdout",
     "output_type": "stream",
     "text": [
      "\n",
      "Epoch 10/30 (Fold 1): Validation Loss: 0.9635, Accuracy: 66.54%\n"
     ]
    },
    {
     "name": "stderr",
     "output_type": "stream",
     "text": [
      "Epoch 11/30 (Fold 1): 100%|█████████████████████████████████████████████████████████████████████████████████████████████████████| 444/444 [01:06<00:00,  6.67it/s, loss=0.882, accuracy=69.2]\n"
     ]
    },
    {
     "name": "stdout",
     "output_type": "stream",
     "text": [
      "\n",
      "Epoch 11/30 (Fold 1): Validation Loss: 0.9162, Accuracy: 68.66%\n"
     ]
    },
    {
     "name": "stderr",
     "output_type": "stream",
     "text": [
      "Epoch 12/30 (Fold 1): 100%|█████████████████████████████████████████████████████████████████████████████████████████████████████| 444/444 [01:07<00:00,  6.62it/s, loss=0.853, accuracy=70.1]\n"
     ]
    },
    {
     "name": "stdout",
     "output_type": "stream",
     "text": [
      "\n",
      "Epoch 12/30 (Fold 1): Validation Loss: 0.8511, Accuracy: 71.98%\n"
     ]
    },
    {
     "name": "stderr",
     "output_type": "stream",
     "text": [
      "Epoch 16/30 (Fold 1): 100%|█████████████████████████████████████████████████████████████████████████████████████████████████████| 444/444 [01:04<00:00,  6.86it/s, loss=0.698, accuracy=75.7]\n"
     ]
    },
    {
     "name": "stdout",
     "output_type": "stream",
     "text": [
      "\n",
      "Epoch 16/30 (Fold 1): Validation Loss: 0.8548, Accuracy: 71.28%\n"
     ]
    },
    {
     "name": "stderr",
     "output_type": "stream",
     "text": [
      "Epoch 17/30 (Fold 1): 100%|█████████████████████████████████████████████████████████████████████████████████████████████████████| 444/444 [01:04<00:00,  6.89it/s, loss=0.686, accuracy=75.8]\n"
     ]
    },
    {
     "name": "stdout",
     "output_type": "stream",
     "text": [
      "\n",
      "Epoch 17/30 (Fold 1): Validation Loss: 0.9262, Accuracy: 69.67%\n",
      "EarlyStopping counter: 1 out of 5\n"
     ]
    },
    {
     "name": "stderr",
     "output_type": "stream",
     "text": [
      "Epoch 18/30 (Fold 1): 100%|█████████████████████████████████████████████████████████████████████████████████████████████████████| 444/444 [01:04<00:00,  6.87it/s, loss=0.648, accuracy=77.8]\n"
     ]
    },
    {
     "name": "stdout",
     "output_type": "stream",
     "text": [
      "\n",
      "Epoch 18/30 (Fold 1): Validation Loss: 0.9925, Accuracy: 68.57%\n",
      "EarlyStopping counter: 2 out of 5\n"
     ]
    },
    {
     "name": "stderr",
     "output_type": "stream",
     "text": [
      "Epoch 19/30 (Fold 1): 100%|███████████████████████████████████████████████████████████████████████████████████████████████████████| 444/444 [01:05<00:00,  6.82it/s, loss=0.626, accuracy=78]\n"
     ]
    },
    {
     "name": "stdout",
     "output_type": "stream",
     "text": [
      "\n",
      "Epoch 19/30 (Fold 1): Validation Loss: 0.9393, Accuracy: 69.73%\n",
      "EarlyStopping counter: 3 out of 5\n"
     ]
    },
    {
     "name": "stderr",
     "output_type": "stream",
     "text": [
      "Epoch 20/30 (Fold 1): 100%|█████████████████████████████████████████████████████████████████████████████████████████████████████| 444/444 [01:06<00:00,  6.65it/s, loss=0.492, accuracy=82.3]\n"
     ]
    },
    {
     "name": "stdout",
     "output_type": "stream",
     "text": [
      "\n",
      "Epoch 20/30 (Fold 1): Validation Loss: 0.7133, Accuracy: 77.85%\n"
     ]
    },
    {
     "name": "stderr",
     "output_type": "stream",
     "text": [
      "Epoch 21/30 (Fold 1): 100%|█████████████████████████████████████████████████████████████████████████████████████████████████████| 444/444 [01:06<00:00,  6.69it/s, loss=0.459, accuracy=83.2]\n"
     ]
    },
    {
     "name": "stdout",
     "output_type": "stream",
     "text": [
      "\n",
      "Epoch 21/30 (Fold 1): Validation Loss: 0.7232, Accuracy: 77.62%\n"
     ]
    },
    {
     "name": "stderr",
     "output_type": "stream",
     "text": [
      "Epoch 22/30 (Fold 1): 100%|█████████████████████████████████████████████████████████████████████████████████████████████████████| 444/444 [01:05<00:00,  6.75it/s, loss=0.443, accuracy=83.8]\n"
     ]
    },
    {
     "name": "stdout",
     "output_type": "stream",
     "text": [
      "\n",
      "Epoch 22/30 (Fold 1): Validation Loss: 0.7051, Accuracy: 78.49%\n"
     ]
    },
    {
     "name": "stderr",
     "output_type": "stream",
     "text": [
      "Epoch 23/30 (Fold 1): 100%|█████████████████████████████████████████████████████████████████████████████████████████████████████| 444/444 [01:05<00:00,  6.82it/s, loss=0.412, accuracy=84.8]\n"
     ]
    },
    {
     "name": "stdout",
     "output_type": "stream",
     "text": [
      "\n",
      "Epoch 23/30 (Fold 1): Validation Loss: 0.7356, Accuracy: 77.99%\n",
      "EarlyStopping counter: 1 out of 5\n"
     ]
    },
    {
     "name": "stderr",
     "output_type": "stream",
     "text": [
      "Epoch 24/30 (Fold 1): 100%|█████████████████████████████████████████████████████████████████████████████████████████████████████| 444/444 [01:06<00:00,  6.67it/s, loss=0.412, accuracy=84.7]\n"
     ]
    },
    {
     "name": "stdout",
     "output_type": "stream",
     "text": [
      "\n",
      "Epoch 24/30 (Fold 1): Validation Loss: 0.7331, Accuracy: 78.44%\n",
      "EarlyStopping counter: 2 out of 5\n"
     ]
    },
    {
     "name": "stderr",
     "output_type": "stream",
     "text": [
      "Epoch 25/30 (Fold 1): 100%|█████████████████████████████████████████████████████████████████████████████████████████████████████| 444/444 [01:06<00:00,  6.64it/s, loss=0.392, accuracy=85.6]\n"
     ]
    },
    {
     "name": "stdout",
     "output_type": "stream",
     "text": [
      "\n",
      "Epoch 25/30 (Fold 1): Validation Loss: 0.7416, Accuracy: 78.24%\n",
      "EarlyStopping counter: 3 out of 5\n"
     ]
    },
    {
     "name": "stderr",
     "output_type": "stream",
     "text": [
      "Epoch 26/30 (Fold 1): 100%|█████████████████████████████████████████████████████████████████████████████████████████████████████| 444/444 [01:06<00:00,  6.65it/s, loss=0.387, accuracy=85.8]\n"
     ]
    },
    {
     "name": "stdout",
     "output_type": "stream",
     "text": [
      "\n",
      "Epoch 26/30 (Fold 1): Validation Loss: 0.7409, Accuracy: 78.69%\n",
      "EarlyStopping counter: 4 out of 5\n"
     ]
    },
    {
     "name": "stderr",
     "output_type": "stream",
     "text": [
      "Epoch 27/30 (Fold 1): 100%|█████████████████████████████████████████████████████████████████████████████████████████████████████| 444/444 [01:06<00:00,  6.65it/s, loss=0.374, accuracy=86.1]\n"
     ]
    },
    {
     "name": "stdout",
     "output_type": "stream",
     "text": [
      "\n",
      "Epoch 27/30 (Fold 1): Validation Loss: 0.7307, Accuracy: 78.78%\n",
      "EarlyStopping counter: 5 out of 5\n",
      "Early stopping triggered (Fold 1)\n"
     ]
    },
    {
     "name": "stderr",
     "output_type": "stream",
     "text": [
      "Evaluating (Fold 1): 100%|█████████████████████████████████████████████████████████████████████████████████████████████████████████████████████████████████| 111/111 [00:12<00:00,  8.78it/s]\n"
     ]
    },
    {
     "name": "stdout",
     "output_type": "stream",
     "text": [
      "Accuracy: 78.55%\n",
      "\n",
      "Classification Report:\n",
      "               precision    recall  f1-score   support\n",
      "\n",
      "           0     0.4813    0.4147    0.4455       217\n",
      "           1     0.8338    0.8061    0.8197       361\n",
      "           2     0.8789    0.9194    0.8987       521\n",
      "           3     0.8380    0.9061    0.8707       394\n",
      "           4     0.5714    0.6792    0.6207        53\n",
      "           5     0.8073    0.7844    0.7957       422\n",
      "           6     0.6675    0.7867    0.7222       347\n",
      "           7     0.6899    0.5859    0.6336       524\n",
      "           8     0.8384    0.9228    0.8786       298\n",
      "           9     0.9016    0.8467    0.8733       411\n",
      "\n",
      "    accuracy                         0.7855      3548\n",
      "   macro avg     0.7508    0.7652    0.7559      3548\n",
      "weighted avg     0.7830    0.7855    0.7824      3548\n",
      "\n",
      "\n",
      "==================== FOLD 2/5 ====================\n"
     ]
    },
    {
     "name": "stderr",
     "output_type": "stream",
     "text": [
      "/root/miniconda3/envs/myenv/lib/python3.9/site-packages/torch/optim/lr_scheduler.py:62: UserWarning: The verbose parameter is deprecated. Please use get_last_lr() to access the learning rate.\n",
      "  warnings.warn(\n",
      "Epoch 1/30 (Fold 2): 100%|███████████████████████████████████████████████████████████████████████████████████████████████████████| 444/444 [01:06<00:00,  6.64it/s, loss=2.07, accuracy=23.9]\n"
     ]
    },
    {
     "name": "stdout",
     "output_type": "stream",
     "text": [
      "\n",
      "Epoch 1/30 (Fold 2): Validation Loss: 1.8383, Accuracy: 29.86%\n"
     ]
    },
    {
     "name": "stderr",
     "output_type": "stream",
     "text": [
      "Epoch 2/30 (Fold 2): 100%|███████████████████████████████████████████████████████████████████████████████████████████████████████| 444/444 [01:05<00:00,  6.73it/s, loss=1.77, accuracy=32.9]\n"
     ]
    },
    {
     "name": "stdout",
     "output_type": "stream",
     "text": [
      "\n",
      "Epoch 2/30 (Fold 2): Validation Loss: 1.7291, Accuracy: 29.32%\n"
     ]
    },
    {
     "name": "stderr",
     "output_type": "stream",
     "text": [
      "Epoch 3/30 (Fold 2): 100%|███████████████████████████████████████████████████████████████████████████████████████████████████████| 444/444 [01:05<00:00,  6.80it/s, loss=1.61, accuracy=38.5]\n"
     ]
    },
    {
     "name": "stdout",
     "output_type": "stream",
     "text": [
      "\n",
      "Epoch 3/30 (Fold 2): Validation Loss: 3.5280, Accuracy: 20.72%\n",
      "EarlyStopping counter: 1 out of 5\n"
     ]
    },
    {
     "name": "stderr",
     "output_type": "stream",
     "text": [
      "Epoch 4/30 (Fold 2): 100%|███████████████████████████████████████████████████████████████████████████████████████████████████████| 444/444 [01:05<00:00,  6.78it/s, loss=1.51, accuracy=42.5]\n"
     ]
    },
    {
     "name": "stdout",
     "output_type": "stream",
     "text": [
      "\n",
      "Epoch 4/30 (Fold 2): Validation Loss: 2.0738, Accuracy: 24.08%\n",
      "EarlyStopping counter: 2 out of 5\n"
     ]
    },
    {
     "name": "stderr",
     "output_type": "stream",
     "text": [
      "Epoch 5/30 (Fold 2): 100%|███████████████████████████████████████████████████████████████████████████████████████████████████████| 444/444 [01:06<00:00,  6.67it/s, loss=1.37, accuracy=48.8]\n"
     ]
    },
    {
     "name": "stdout",
     "output_type": "stream",
     "text": [
      "\n",
      "Epoch 5/30 (Fold 2): Validation Loss: 1.3052, Accuracy: 50.47%\n"
     ]
    },
    {
     "name": "stderr",
     "output_type": "stream",
     "text": [
      "Epoch 6/30 (Fold 2): 100%|███████████████████████████████████████████████████████████████████████████████████████████████████████| 444/444 [01:07<00:00,  6.60it/s, loss=1.28, accuracy=52.7]\n"
     ]
    },
    {
     "name": "stdout",
     "output_type": "stream",
     "text": [
      "\n",
      "Epoch 6/30 (Fold 2): Validation Loss: 1.1601, Accuracy: 57.94%\n"
     ]
    },
    {
     "name": "stderr",
     "output_type": "stream",
     "text": [
      "Epoch 7/30 (Fold 2): 100%|███████████████████████████████████████████████████████████████████████████████████████████████████████| 444/444 [01:07<00:00,  6.59it/s, loss=1.18, accuracy=56.9]\n"
     ]
    },
    {
     "name": "stdout",
     "output_type": "stream",
     "text": [
      "\n",
      "Epoch 7/30 (Fold 2): Validation Loss: 1.2118, Accuracy: 58.30%\n",
      "EarlyStopping counter: 1 out of 5\n"
     ]
    },
    {
     "name": "stderr",
     "output_type": "stream",
     "text": [
      "Epoch 8/30 (Fold 2): 100%|███████████████████████████████████████████████████████████████████████████████████████████████████████| 444/444 [01:06<00:00,  6.65it/s, loss=1.11, accuracy=59.9]\n"
     ]
    },
    {
     "name": "stdout",
     "output_type": "stream",
     "text": [
      "\n",
      "Epoch 8/30 (Fold 2): Validation Loss: 1.0595, Accuracy: 59.66%\n"
     ]
    },
    {
     "name": "stderr",
     "output_type": "stream",
     "text": [
      "Epoch 9/30 (Fold 2): 100%|███████████████████████████████████████████████████████████████████████████████████████████████████████| 444/444 [01:07<00:00,  6.62it/s, loss=1.06, accuracy=62.2]\n"
     ]
    },
    {
     "name": "stdout",
     "output_type": "stream",
     "text": [
      "\n",
      "Epoch 9/30 (Fold 2): Validation Loss: 1.1550, Accuracy: 57.12%\n",
      "EarlyStopping counter: 1 out of 5\n"
     ]
    },
    {
     "name": "stderr",
     "output_type": "stream",
     "text": [
      "Epoch 10/30 (Fold 2): 100%|█████████████████████████████████████████████████████████████████████████████████████████████████████████| 444/444 [01:06<00:00,  6.69it/s, loss=1, accuracy=64.2]\n"
     ]
    },
    {
     "name": "stdout",
     "output_type": "stream",
     "text": [
      "\n",
      "Epoch 10/30 (Fold 2): Validation Loss: 0.9798, Accuracy: 65.44%\n"
     ]
    },
    {
     "name": "stderr",
     "output_type": "stream",
     "text": [
      "Epoch 11/30 (Fold 2): 100%|█████████████████████████████████████████████████████████████████████████████████████████████████████| 444/444 [01:06<00:00,  6.68it/s, loss=0.972, accuracy=64.9]\n"
     ]
    },
    {
     "name": "stdout",
     "output_type": "stream",
     "text": [
      "\n",
      "Epoch 11/30 (Fold 2): Validation Loss: 1.1021, Accuracy: 61.60%\n",
      "EarlyStopping counter: 1 out of 5\n"
     ]
    },
    {
     "name": "stderr",
     "output_type": "stream",
     "text": [
      "Epoch 12/30 (Fold 2): 100%|██████████████████████████████████████████████████████████████████████████████████████████████████████| 444/444 [01:06<00:00,  6.71it/s, loss=0.91, accuracy=67.7]\n"
     ]
    },
    {
     "name": "stdout",
     "output_type": "stream",
     "text": [
      "\n",
      "Epoch 12/30 (Fold 2): Validation Loss: 1.2069, Accuracy: 57.63%\n",
      "EarlyStopping counter: 2 out of 5\n"
     ]
    },
    {
     "name": "stderr",
     "output_type": "stream",
     "text": [
      "Epoch 13/30 (Fold 2): 100%|█████████████████████████████████████████████████████████████████████████████████████████████████████| 444/444 [01:06<00:00,  6.69it/s, loss=0.878, accuracy=68.8]\n"
     ]
    },
    {
     "name": "stdout",
     "output_type": "stream",
     "text": [
      "\n",
      "Epoch 13/30 (Fold 2): Validation Loss: 0.9130, Accuracy: 67.01%\n"
     ]
    },
    {
     "name": "stderr",
     "output_type": "stream",
     "text": [
      "Epoch 14/30 (Fold 2): 100%|█████████████████████████████████████████████████████████████████████████████████████████████████████| 444/444 [01:06<00:00,  6.70it/s, loss=0.848, accuracy=69.8]\n"
     ]
    },
    {
     "name": "stdout",
     "output_type": "stream",
     "text": [
      "\n",
      "Epoch 14/30 (Fold 2): Validation Loss: 0.8734, Accuracy: 68.62%\n"
     ]
    },
    {
     "name": "stderr",
     "output_type": "stream",
     "text": [
      "Epoch 15/30 (Fold 2): 100%|█████████████████████████████████████████████████████████████████████████████████████████████████████| 444/444 [01:05<00:00,  6.74it/s, loss=0.803, accuracy=72.1]\n"
     ]
    },
    {
     "name": "stdout",
     "output_type": "stream",
     "text": [
      "\n",
      "Epoch 15/30 (Fold 2): Validation Loss: 0.8423, Accuracy: 70.82%\n"
     ]
    },
    {
     "name": "stderr",
     "output_type": "stream",
     "text": [
      "Epoch 16/30 (Fold 2): 100%|███████████████████████████████████████████████████████████████████████████████████████████████████████| 444/444 [01:07<00:00,  6.60it/s, loss=0.771, accuracy=73]\n"
     ]
    },
    {
     "name": "stdout",
     "output_type": "stream",
     "text": [
      "\n",
      "Epoch 16/30 (Fold 2): Validation Loss: 0.8795, Accuracy: 70.20%\n",
      "EarlyStopping counter: 1 out of 5\n"
     ]
    },
    {
     "name": "stderr",
     "output_type": "stream",
     "text": [
      "Epoch 17/30 (Fold 2): 100%|█████████████████████████████████████████████████████████████████████████████████████████████████████| 444/444 [01:06<00:00,  6.71it/s, loss=0.744, accuracy=73.7]\n"
     ]
    },
    {
     "name": "stdout",
     "output_type": "stream",
     "text": [
      "\n",
      "Epoch 17/30 (Fold 2): Validation Loss: 0.8066, Accuracy: 72.79%\n"
     ]
    },
    {
     "name": "stderr",
     "output_type": "stream",
     "text": [
      "Epoch 18/30 (Fold 2): 100%|█████████████████████████████████████████████████████████████████████████████████████████████████████| 444/444 [01:05<00:00,  6.76it/s, loss=0.722, accuracy=74.8]\n"
     ]
    },
    {
     "name": "stdout",
     "output_type": "stream",
     "text": [
      "\n",
      "Epoch 18/30 (Fold 2): Validation Loss: 0.8319, Accuracy: 72.93%\n",
      "EarlyStopping counter: 1 out of 5\n"
     ]
    },
    {
     "name": "stderr",
     "output_type": "stream",
     "text": [
      "Epoch 19/30 (Fold 2): 100%|█████████████████████████████████████████████████████████████████████████████████████████████████████| 444/444 [01:05<00:00,  6.77it/s, loss=0.669, accuracy=76.1]\n"
     ]
    },
    {
     "name": "stdout",
     "output_type": "stream",
     "text": [
      "\n",
      "Epoch 19/30 (Fold 2): Validation Loss: 0.7945, Accuracy: 74.18%\n"
     ]
    },
    {
     "name": "stderr",
     "output_type": "stream",
     "text": [
      "Epoch 20/30 (Fold 2): 100%|█████████████████████████████████████████████████████████████████████████████████████████████████████| 444/444 [01:06<00:00,  6.65it/s, loss=0.654, accuracy=76.7]\n"
     ]
    },
    {
     "name": "stdout",
     "output_type": "stream",
     "text": [
      "\n",
      "Epoch 20/30 (Fold 2): Validation Loss: 0.7491, Accuracy: 74.82%\n"
     ]
    },
    {
     "name": "stderr",
     "output_type": "stream",
     "text": [
      "Epoch 21/30 (Fold 2): 100%|█████████████████████████████████████████████████████████████████████████████████████████████████████| 444/444 [01:07<00:00,  6.57it/s, loss=0.603, accuracy=78.4]\n"
     ]
    },
    {
     "name": "stdout",
     "output_type": "stream",
     "text": [
      "\n",
      "Epoch 21/30 (Fold 2): Validation Loss: 0.8302, Accuracy: 70.71%\n",
      "EarlyStopping counter: 1 out of 5\n"
     ]
    },
    {
     "name": "stderr",
     "output_type": "stream",
     "text": [
      "Epoch 22/30 (Fold 2): 100%|█████████████████████████████████████████████████████████████████████████████████████████████████████| 444/444 [01:07<00:00,  6.57it/s, loss=0.598, accuracy=78.4]\n"
     ]
    },
    {
     "name": "stdout",
     "output_type": "stream",
     "text": [
      "\n",
      "Epoch 22/30 (Fold 2): Validation Loss: 0.8339, Accuracy: 71.72%\n",
      "EarlyStopping counter: 2 out of 5\n"
     ]
    },
    {
     "name": "stderr",
     "output_type": "stream",
     "text": [
      "Epoch 23/30 (Fold 2): 100%|█████████████████████████████████████████████████████████████████████████████████████████████████████| 444/444 [01:05<00:00,  6.74it/s, loss=0.556, accuracy=79.9]\n"
     ]
    },
    {
     "name": "stdout",
     "output_type": "stream",
     "text": [
      "\n",
      "Epoch 23/30 (Fold 2): Validation Loss: 0.8394, Accuracy: 74.06%\n",
      "EarlyStopping counter: 3 out of 5\n"
     ]
    },
    {
     "name": "stderr",
     "output_type": "stream",
     "text": [
      "Epoch 24/30 (Fold 2): 100%|█████████████████████████████████████████████████████████████████████████████████████████████████████| 444/444 [01:06<00:00,  6.67it/s, loss=0.536, accuracy=80.4]\n"
     ]
    },
    {
     "name": "stdout",
     "output_type": "stream",
     "text": [
      "\n",
      "Epoch 24/30 (Fold 2): Validation Loss: 0.9048, Accuracy: 70.51%\n",
      "EarlyStopping counter: 4 out of 5\n"
     ]
    },
    {
     "name": "stderr",
     "output_type": "stream",
     "text": [
      "Epoch 25/30 (Fold 2): 100%|█████████████████████████████████████████████████████████████████████████████████████████████████████| 444/444 [01:07<00:00,  6.60it/s, loss=0.437, accuracy=83.8]\n"
     ]
    },
    {
     "name": "stdout",
     "output_type": "stream",
     "text": [
      "\n",
      "Epoch 25/30 (Fold 2): Validation Loss: 0.7082, Accuracy: 77.47%\n"
     ]
    },
    {
     "name": "stderr",
     "output_type": "stream",
     "text": [
      "Epoch 26/30 (Fold 2): 100%|█████████████████████████████████████████████████████████████████████████████████████████████████████| 444/444 [01:07<00:00,  6.62it/s, loss=0.378, accuracy=85.9]\n"
     ]
    },
    {
     "name": "stdout",
     "output_type": "stream",
     "text": [
      "\n",
      "Epoch 26/30 (Fold 2): Validation Loss: 0.7106, Accuracy: 77.30%\n"
     ]
    },
    {
     "name": "stderr",
     "output_type": "stream",
     "text": [
      "Epoch 27/30 (Fold 2): 100%|█████████████████████████████████████████████████████████████████████████████████████████████████████| 444/444 [01:06<00:00,  6.68it/s, loss=0.369, accuracy=86.1]\n"
     ]
    },
    {
     "name": "stdout",
     "output_type": "stream",
     "text": [
      "\n",
      "Epoch 27/30 (Fold 2): Validation Loss: 0.7227, Accuracy: 77.11%\n",
      "EarlyStopping counter: 1 out of 5\n"
     ]
    },
    {
     "name": "stderr",
     "output_type": "stream",
     "text": [
      "Epoch 28/30 (Fold 2): 100%|█████████████████████████████████████████████████████████████████████████████████████████████████████| 444/444 [01:06<00:00,  6.66it/s, loss=0.351, accuracy=86.5]\n"
     ]
    },
    {
     "name": "stdout",
     "output_type": "stream",
     "text": [
      "\n",
      "Epoch 28/30 (Fold 2): Validation Loss: 0.7158, Accuracy: 78.26%\n"
     ]
    },
    {
     "name": "stderr",
     "output_type": "stream",
     "text": [
      "Epoch 29/30 (Fold 2): 100%|█████████████████████████████████████████████████████████████████████████████████████████████████████| 444/444 [01:04<00:00,  6.85it/s, loss=0.339, accuracy=86.8]\n"
     ]
    },
    {
     "name": "stdout",
     "output_type": "stream",
     "text": [
      "\n",
      "Epoch 29/30 (Fold 2): Validation Loss: 0.7190, Accuracy: 78.43%\n"
     ]
    },
    {
     "name": "stderr",
     "output_type": "stream",
     "text": [
      "Epoch 30/30 (Fold 2): 100%|█████████████████████████████████████████████████████████████████████████████████████████████████████| 444/444 [01:06<00:00,  6.73it/s, loss=0.329, accuracy=87.5]\n"
     ]
    },
    {
     "name": "stdout",
     "output_type": "stream",
     "text": [
      "\n",
      "Epoch 30/30 (Fold 2): Validation Loss: 0.7308, Accuracy: 78.32%\n",
      "EarlyStopping counter: 1 out of 5\n"
     ]
    },
    {
     "name": "stderr",
     "output_type": "stream",
     "text": [
      "Evaluating (Fold 2): 100%|█████████████████████████████████████████████████████████████████████████████████████████████████████████████████████████████████| 111/111 [00:12<00:00,  8.82it/s]\n"
     ]
    },
    {
     "name": "stdout",
     "output_type": "stream",
     "text": [
      "Accuracy: 78.63%\n",
      "\n",
      "Classification Report:\n",
      "               precision    recall  f1-score   support\n",
      "\n",
      "           0     0.4314    0.3777    0.4027       233\n",
      "           1     0.8218    0.7977    0.8095       341\n",
      "           2     0.8854    0.9021    0.8937       531\n",
      "           3     0.8881    0.9315    0.9093       409\n",
      "           4     0.5904    0.7903    0.6759        62\n",
      "           5     0.7884    0.7939    0.7911       427\n",
      "           6     0.6730    0.7696    0.7181       369\n",
      "           7     0.7164    0.6065    0.6569       554\n",
      "           8     0.8721    0.8929    0.8824       252\n",
      "           9     0.8842    0.9106    0.8972       369\n",
      "\n",
      "    accuracy                         0.7863      3547\n",
      "   macro avg     0.7551    0.7773    0.7637      3547\n",
      "weighted avg     0.7834    0.7863    0.7833      3547\n",
      "\n",
      "\n",
      "==================== FOLD 3/5 ====================\n"
     ]
    },
    {
     "name": "stderr",
     "output_type": "stream",
     "text": [
      "/root/miniconda3/envs/myenv/lib/python3.9/site-packages/torch/optim/lr_scheduler.py:62: UserWarning: The verbose parameter is deprecated. Please use get_last_lr() to access the learning rate.\n",
      "  warnings.warn(\n",
      "Epoch 1/30 (Fold 3): 100%|███████████████████████████████████████████████████████████████████████████████████████████████████████| 444/444 [01:06<00:00,  6.73it/s, loss=2.03, accuracy=25.5]\n"
     ]
    },
    {
     "name": "stdout",
     "output_type": "stream",
     "text": [
      "\n",
      "Epoch 1/30 (Fold 3): Validation Loss: 1.7674, Accuracy: 31.63%\n"
     ]
    },
    {
     "name": "stderr",
     "output_type": "stream",
     "text": [
      "Epoch 2/30 (Fold 3): 100%|████████████████████████████████████████████████████████████████████████████████████████████████████████| 444/444 [01:06<00:00,  6.72it/s, loss=1.7, accuracy=34.6]\n"
     ]
    },
    {
     "name": "stdout",
     "output_type": "stream",
     "text": [
      "\n",
      "Epoch 2/30 (Fold 3): Validation Loss: 1.6470, Accuracy: 36.93%\n"
     ]
    },
    {
     "name": "stderr",
     "output_type": "stream",
     "text": [
      "Epoch 3/30 (Fold 3): 100%|███████████████████████████████████████████████████████████████████████████████████████████████████████| 444/444 [01:06<00:00,  6.68it/s, loss=1.53, accuracy=41.7]\n"
     ]
    },
    {
     "name": "stdout",
     "output_type": "stream",
     "text": [
      "\n",
      "Epoch 3/30 (Fold 3): Validation Loss: 1.6042, Accuracy: 38.17%\n"
     ]
    },
    {
     "name": "stderr",
     "output_type": "stream",
     "text": [
      "Epoch 4/30 (Fold 3): 100%|███████████████████████████████████████████████████████████████████████████████████████████████████████| 444/444 [01:06<00:00,  6.66it/s, loss=1.37, accuracy=48.7]\n"
     ]
    },
    {
     "name": "stdout",
     "output_type": "stream",
     "text": [
      "\n",
      "Epoch 4/30 (Fold 3): Validation Loss: 1.2606, Accuracy: 53.43%\n"
     ]
    },
    {
     "name": "stderr",
     "output_type": "stream",
     "text": [
      "Epoch 5/30 (Fold 3): 100%|███████████████████████████████████████████████████████████████████████████████████████████████████████| 444/444 [01:05<00:00,  6.77it/s, loss=1.25, accuracy=54.4]\n"
     ]
    },
    {
     "name": "stdout",
     "output_type": "stream",
     "text": [
      "\n",
      "Epoch 5/30 (Fold 3): Validation Loss: 1.1345, Accuracy: 57.88%\n"
     ]
    },
    {
     "name": "stderr",
     "output_type": "stream",
     "text": [
      "Epoch 6/30 (Fold 3): 100%|███████████████████████████████████████████████████████████████████████████████████████████████████████| 444/444 [01:05<00:00,  6.77it/s, loss=1.16, accuracy=58.2]\n"
     ]
    },
    {
     "name": "stdout",
     "output_type": "stream",
     "text": [
      "\n",
      "Epoch 6/30 (Fold 3): Validation Loss: 1.1297, Accuracy: 61.40%\n"
     ]
    },
    {
     "name": "stderr",
     "output_type": "stream",
     "text": [
      "Epoch 7/30 (Fold 3): 100%|████████████████████████████████████████████████████████████████████████████████████████████████████████| 444/444 [01:06<00:00,  6.68it/s, loss=1.1, accuracy=60.7]\n"
     ]
    },
    {
     "name": "stdout",
     "output_type": "stream",
     "text": [
      "\n",
      "Epoch 7/30 (Fold 3): Validation Loss: 1.0812, Accuracy: 64.28%\n"
     ]
    },
    {
     "name": "stderr",
     "output_type": "stream",
     "text": [
      "Epoch 8/30 (Fold 3): 100%|███████████████████████████████████████████████████████████████████████████████████████████████████████| 444/444 [01:06<00:00,  6.70it/s, loss=1.04, accuracy=62.9]\n"
     ]
    },
    {
     "name": "stdout",
     "output_type": "stream",
     "text": [
      "\n",
      "Epoch 8/30 (Fold 3): Validation Loss: 1.0493, Accuracy: 64.03%\n"
     ]
    },
    {
     "name": "stderr",
     "output_type": "stream",
     "text": [
      "Epoch 9/30 (Fold 3): 100%|████████████████████████████████████████████████████████████████████████████████████████████████████████| 444/444 [01:05<00:00,  6.73it/s, loss=0.976, accuracy=66]\n"
     ]
    },
    {
     "name": "stdout",
     "output_type": "stream",
     "text": [
      "\n",
      "Epoch 9/30 (Fold 3): Validation Loss: 0.9591, Accuracy: 69.33%\n"
     ]
    },
    {
     "name": "stderr",
     "output_type": "stream",
     "text": [
      "Epoch 10/30 (Fold 3): 100%|███████████████████████████████████████████████████████████████████████████████████████████████████████| 444/444 [01:06<00:00,  6.69it/s, loss=0.933, accuracy=67]\n"
     ]
    },
    {
     "name": "stdout",
     "output_type": "stream",
     "text": [
      "\n",
      "Epoch 10/30 (Fold 3): Validation Loss: 0.8720, Accuracy: 69.69%\n"
     ]
    },
    {
     "name": "stderr",
     "output_type": "stream",
     "text": [
      "Epoch 11/30 (Fold 3): 100%|█████████████████████████████████████████████████████████████████████████████████████████████████████| 444/444 [01:04<00:00,  6.84it/s, loss=0.859, accuracy=70.1]\n"
     ]
    },
    {
     "name": "stdout",
     "output_type": "stream",
     "text": [
      "\n",
      "Epoch 11/30 (Fold 3): Validation Loss: 1.0405, Accuracy: 62.67%\n",
      "EarlyStopping counter: 1 out of 5\n"
     ]
    },
    {
     "name": "stderr",
     "output_type": "stream",
     "text": [
      "Epoch 12/30 (Fold 3): 100%|█████████████████████████████████████████████████████████████████████████████████████████████████████| 444/444 [01:04<00:00,  6.87it/s, loss=0.837, accuracy=70.6]\n"
     ]
    },
    {
     "name": "stdout",
     "output_type": "stream",
     "text": [
      "\n",
      "Epoch 12/30 (Fold 3): Validation Loss: 1.0849, Accuracy: 60.30%\n",
      "EarlyStopping counter: 2 out of 5\n"
     ]
    },
    {
     "name": "stderr",
     "output_type": "stream",
     "text": [
      "Epoch 13/30 (Fold 3): 100%|█████████████████████████████████████████████████████████████████████████████████████████████████████| 444/444 [01:04<00:00,  6.87it/s, loss=0.791, accuracy=72.5]\n"
     ]
    },
    {
     "name": "stdout",
     "output_type": "stream",
     "text": [
      "\n",
      "Epoch 13/30 (Fold 3): Validation Loss: 0.9249, Accuracy: 67.16%\n",
      "EarlyStopping counter: 3 out of 5\n"
     ]
    },
    {
     "name": "stderr",
     "output_type": "stream",
     "text": [
      "Epoch 14/30 (Fold 3): 100%|█████████████████████████████████████████████████████████████████████████████████████████████████████| 444/444 [01:04<00:00,  6.88it/s, loss=0.749, accuracy=73.4]\n"
     ]
    },
    {
     "name": "stdout",
     "output_type": "stream",
     "text": [
      "\n",
      "Epoch 14/30 (Fold 3): Validation Loss: 0.8103, Accuracy: 73.30%\n"
     ]
    },
    {
     "name": "stderr",
     "output_type": "stream",
     "text": [
      "Epoch 15/30 (Fold 3): 100%|█████████████████████████████████████████████████████████████████████████████████████████████████████| 444/444 [01:04<00:00,  6.85it/s, loss=0.741, accuracy=74.7]\n"
     ]
    },
    {
     "name": "stdout",
     "output_type": "stream",
     "text": [
      "\n",
      "Epoch 15/30 (Fold 3): Validation Loss: 0.8686, Accuracy: 72.43%\n",
      "EarlyStopping counter: 1 out of 5\n"
     ]
    },
    {
     "name": "stderr",
     "output_type": "stream",
     "text": [
      "Epoch 16/30 (Fold 3): 100%|█████████████████████████████████████████████████████████████████████████████████████████████████████| 444/444 [01:05<00:00,  6.81it/s, loss=0.698, accuracy=75.9]\n"
     ]
    },
    {
     "name": "stdout",
     "output_type": "stream",
     "text": [
      "\n",
      "Epoch 16/30 (Fold 3): Validation Loss: 0.9648, Accuracy: 68.85%\n",
      "EarlyStopping counter: 2 out of 5\n"
     ]
    },
    {
     "name": "stderr",
     "output_type": "stream",
     "text": [
      "Epoch 17/30 (Fold 3): 100%|█████████████████████████████████████████████████████████████████████████████████████████████████████| 444/444 [01:06<00:00,  6.70it/s, loss=0.662, accuracy=76.5]\n"
     ]
    },
    {
     "name": "stdout",
     "output_type": "stream",
     "text": [
      "\n",
      "Epoch 17/30 (Fold 3): Validation Loss: 0.7635, Accuracy: 76.26%\n"
     ]
    },
    {
     "name": "stderr",
     "output_type": "stream",
     "text": [
      "Epoch 18/30 (Fold 3): 100%|███████████████████████████████████████████████████████████████████████████████████████████████████████| 444/444 [01:06<00:00,  6.71it/s, loss=0.625, accuracy=78]\n"
     ]
    },
    {
     "name": "stdout",
     "output_type": "stream",
     "text": [
      "\n",
      "Epoch 18/30 (Fold 3): Validation Loss: 0.7554, Accuracy: 74.77%\n"
     ]
    },
    {
     "name": "stderr",
     "output_type": "stream",
     "text": [
      "Epoch 19/30 (Fold 3): 100%|███████████████████████████████████████████████████████████████████████████████████████████████████████| 444/444 [01:06<00:00,  6.69it/s, loss=0.6, accuracy=78.4]\n"
     ]
    },
    {
     "name": "stdout",
     "output_type": "stream",
     "text": [
      "\n",
      "Epoch 19/30 (Fold 3): Validation Loss: 0.7942, Accuracy: 74.40%\n",
      "EarlyStopping counter: 1 out of 5\n"
     ]
    },
    {
     "name": "stderr",
     "output_type": "stream",
     "text": [
      "Epoch 20/30 (Fold 3): 100%|█████████████████████████████████████████████████████████████████████████████████████████████████████| 444/444 [01:06<00:00,  6.72it/s, loss=0.574, accuracy=79.6]\n"
     ]
    },
    {
     "name": "stdout",
     "output_type": "stream",
     "text": [
      "\n",
      "Epoch 20/30 (Fold 3): Validation Loss: 0.7632, Accuracy: 74.80%\n"
     ]
    },
    {
     "name": "stderr",
     "output_type": "stream",
     "text": [
      "Epoch 21/30 (Fold 3): 100%|█████████████████████████████████████████████████████████████████████████████████████████████████████| 444/444 [01:05<00:00,  6.78it/s, loss=0.562, accuracy=80.3]\n"
     ]
    },
    {
     "name": "stdout",
     "output_type": "stream",
     "text": [
      "\n",
      "Epoch 21/30 (Fold 3): Validation Loss: 0.7861, Accuracy: 74.63%\n",
      "EarlyStopping counter: 1 out of 5\n"
     ]
    },
    {
     "name": "stderr",
     "output_type": "stream",
     "text": [
      "Epoch 22/30 (Fold 3): 100%|█████████████████████████████████████████████████████████████████████████████████████████████████████| 444/444 [01:05<00:00,  6.73it/s, loss=0.432, accuracy=84.3]\n"
     ]
    },
    {
     "name": "stdout",
     "output_type": "stream",
     "text": [
      "\n",
      "Epoch 22/30 (Fold 3): Validation Loss: 0.7033, Accuracy: 78.52%\n"
     ]
    },
    {
     "name": "stderr",
     "output_type": "stream",
     "text": [
      "Epoch 23/30 (Fold 3): 100%|█████████████████████████████████████████████████████████████████████████████████████████████████████| 444/444 [01:06<00:00,  6.73it/s, loss=0.397, accuracy=85.4]\n"
     ]
    },
    {
     "name": "stdout",
     "output_type": "stream",
     "text": [
      "\n",
      "Epoch 23/30 (Fold 3): Validation Loss: 0.7097, Accuracy: 79.19%\n"
     ]
    },
    {
     "name": "stderr",
     "output_type": "stream",
     "text": [
      "Epoch 24/30 (Fold 3): 100%|█████████████████████████████████████████████████████████████████████████████████████████████████████| 444/444 [01:04<00:00,  6.87it/s, loss=0.381, accuracy=86.3]\n"
     ]
    },
    {
     "name": "stdout",
     "output_type": "stream",
     "text": [
      "\n",
      "Epoch 24/30 (Fold 3): Validation Loss: 0.6866, Accuracy: 79.56%\n"
     ]
    },
    {
     "name": "stderr",
     "output_type": "stream",
     "text": [
      "Epoch 25/30 (Fold 3):  25%|█████████████████████████                                                                           | 111/444 [00:16<00:48,  6.92it/s, loss=0.0918, accuracy=86.6]"
     ]
    }
   ],
   "source": [
    "import torch\n",
    "import torch.nn as nn\n",
    "import torch.optim as optim\n",
    "from torch.utils.data import DataLoader, Dataset, random_split, WeightedRandomSampler, SubsetRandomSampler\n",
    "import os\n",
    "from tqdm import tqdm\n",
    "from PIL import Image\n",
    "import numpy as np\n",
    "from collections import Counter\n",
    "import matplotlib.pyplot as plt\n",
    "import seaborn as sns\n",
    "from sklearn.metrics import confusion_matrix, classification_report\n",
    "from sklearn.model_selection import KFold\n",
    "\n",
    "torch.manual_seed(42)\n",
    "device = torch.device(\"cuda\" if torch.cuda.is_available() else \"cpu\")\n",
    "print(f\"Using device: {device}\")\n",
    "\n",
    "class GalaxyDataset(Dataset):\n",
    "    def __init__(self, root_dir):\n",
    "        self.root_dir = root_dir\n",
    "        self.image_files = [f for f in os.listdir(root_dir) if f.endswith(('.png', '.jpg', '.jpeg'))]\n",
    "        \n",
    "        # Store all labels for sampling weights calculation\n",
    "        self.labels = []\n",
    "        for img_name in self.image_files:\n",
    "            label_str = img_name.split('_')[-1].split('.')[0]\n",
    "            self.labels.append(int(label_str))\n",
    "        \n",
    "        # Calculate class weights\n",
    "        label_counter = Counter(self.labels)\n",
    "        self.class_weights = {cls: 1.0/count for cls, count in label_counter.items()}\n",
    "        \n",
    "        # Store sample weights for WeightedRandomSampler\n",
    "        self.sample_weights = [self.class_weights[label] for label in self.labels]\n",
    "        self.sample_weights = torch.FloatTensor(self.sample_weights)\n",
    "\n",
    "    def __len__(self):\n",
    "        return len(self.image_files)\n",
    "\n",
    "    def __getitem__(self, idx):\n",
    "        img_name = self.image_files[idx]\n",
    "        img_path = os.path.join(self.root_dir, img_name)\n",
    "        \n",
    "        label = self.labels[idx]\n",
    "        \n",
    "        # Load and preprocess image\n",
    "        image = Image.open(img_path).convert(\"RGB\")\n",
    "        image = image.resize((128, 128))\n",
    "        \n",
    "        # Data augmentation for training\n",
    "        if torch.rand(1) > 0.5:  # Random horizontal flip\n",
    "            image = image.transpose(Image.FLIP_LEFT_RIGHT)\n",
    "        \n",
    "        # Convert to numpy array and normalize\n",
    "        image_array = np.array(image) / 255.0\n",
    "        \n",
    "        # Convert to tensor\n",
    "        image_tensor = torch.FloatTensor(image_array).permute(2, 0, 1)\n",
    "        \n",
    "        return image_tensor, label\n",
    "\n",
    "class GalaxyCNN(nn.Module):\n",
    "    def __init__(self, num_classes):\n",
    "        super(GalaxyCNN, self).__init__()\n",
    "        \n",
    "        self.features = nn.Sequential(\n",
    "            # First block\n",
    "            nn.Conv2d(3, 64, kernel_size=3, padding=1),\n",
    "            nn.BatchNorm2d(64),\n",
    "            nn.ReLU(inplace=True),\n",
    "            nn.Conv2d(64, 64, kernel_size=3, padding=1),\n",
    "            nn.BatchNorm2d(64),\n",
    "            nn.ReLU(inplace=True),\n",
    "            nn.MaxPool2d(kernel_size=2, stride=2),\n",
    "            \n",
    "            # Second block\n",
    "            nn.Conv2d(64, 128, kernel_size=3, padding=1),\n",
    "            nn.BatchNorm2d(128),\n",
    "            nn.ReLU(inplace=True),\n",
    "            nn.Conv2d(128, 128, kernel_size=3, padding=1),\n",
    "            nn.BatchNorm2d(128),\n",
    "            nn.ReLU(inplace=True),\n",
    "            nn.MaxPool2d(kernel_size=2, stride=2),\n",
    "            \n",
    "            # Third block\n",
    "            nn.Conv2d(128, 256, kernel_size=3, padding=1),\n",
    "            nn.BatchNorm2d(256),\n",
    "            nn.ReLU(inplace=True),\n",
    "            nn.Conv2d(256, 256, kernel_size=3, padding=1),\n",
    "            nn.BatchNorm2d(256),\n",
    "            nn.ReLU(inplace=True),\n",
    "            nn.MaxPool2d(kernel_size=2, stride=2),\n",
    "            \n",
    "            # Fourth block\n",
    "            nn.Conv2d(256, 512, kernel_size=3, padding=1),\n",
    "            nn.BatchNorm2d(512),\n",
    "            nn.ReLU(inplace=True),\n",
    "            nn.MaxPool2d(kernel_size=2, stride=2)\n",
    "        )\n",
    "        \n",
    "        self.classifier = nn.Sequential(\n",
    "            nn.Dropout(0.3),  # Reduced dropout\n",
    "            nn.Linear(512 * 8 * 8, 2048),  # Smaller first dense layer\n",
    "            nn.ReLU(inplace=True),\n",
    "            nn.Dropout(0.3),  # Reduced dropout\n",
    "            nn.Linear(2048, 512),\n",
    "            nn.ReLU(inplace=True),\n",
    "            nn.Linear(512, num_classes)\n",
    "        )\n",
    "        \n",
    "        # Initialize weights\n",
    "        self._initialize_weights()\n",
    "    \n",
    "    def _initialize_weights(self):\n",
    "        for m in self.modules():\n",
    "            if isinstance(m, nn.Conv2d):\n",
    "                nn.init.kaiming_normal_(m.weight, mode='fan_out', nonlinearity='relu')\n",
    "                if m.bias is not None:\n",
    "                    nn.init.constant_(m.bias, 0)\n",
    "            elif isinstance(m, nn.BatchNorm2d):\n",
    "                nn.init.constant_(m.weight, 1)\n",
    "                nn.init.constant_(m.bias, 0)\n",
    "            elif isinstance(m, nn.Linear):\n",
    "                nn.init.normal_(m.weight, 0, 0.01)\n",
    "                nn.init.constant_(m.bias, 0)\n",
    "    \n",
    "    def forward(self, x):\n",
    "        x = self.features(x)\n",
    "        x = torch.flatten(x, 1)\n",
    "        x = self.classifier(x)\n",
    "        return x\n",
    "\n",
    "class EarlyStopping:\n",
    "    def __init__(self, patience=5, verbose=False, delta=0.01):\n",
    "        self.patience = patience\n",
    "        self.verbose = verbose\n",
    "        self.delta = delta\n",
    "        self.counter = 0\n",
    "        self.best_score = None\n",
    "        self.early_stop = False\n",
    "        self.val_loss_min = np.inf\n",
    "\n",
    "    def __call__(self, val_loss):\n",
    "        score = -val_loss\n",
    "        if self.best_score is None:\n",
    "            self.best_score = score\n",
    "        elif score < self.best_score - self.delta:\n",
    "            self.counter += 1\n",
    "            print(f'EarlyStopping counter: {self.counter} out of {self.patience}')\n",
    "            if self.counter >= self.patience:\n",
    "                self.early_stop = True\n",
    "        else:\n",
    "            self.best_score = score\n",
    "            self.counter = 0\n",
    "\n",
    "def train_model(model, train_loader, val_loader, criterion, optimizer, scheduler, early_stopping, num_epochs, fold=None):\n",
    "    model.to(device)\n",
    "    best_val_acc = 0.0\n",
    "    train_losses, val_losses = [], []\n",
    "    fold_str = f\" (Fold {fold})\" if fold is not None else \"\"\n",
    "\n",
    "    for epoch in range(num_epochs):\n",
    "        model.train()\n",
    "        running_loss, correct, total = 0.0, 0, 0\n",
    "        progress_bar = tqdm(train_loader, desc=f'Epoch {epoch+1}/{num_epochs}{fold_str}')\n",
    "        \n",
    "        for inputs, labels in progress_bar:\n",
    "            inputs, labels = inputs.to(device), labels.to(device)\n",
    "            optimizer.zero_grad()\n",
    "            outputs = model(inputs)\n",
    "            loss = criterion(outputs, labels)\n",
    "            loss.backward()\n",
    "            optimizer.step()\n",
    "            running_loss += loss.item()\n",
    "            _, predicted = outputs.max(1)\n",
    "            total += labels.size(0)\n",
    "            correct += predicted.eq(labels).sum().item()\n",
    "            progress_bar.set_postfix({'loss': running_loss / len(train_loader), 'accuracy': 100. * correct / total})\n",
    "        \n",
    "        train_losses.append(running_loss / len(train_loader))\n",
    "        \n",
    "        model.eval()\n",
    "        val_loss, val_correct, val_total = 0.0, 0, 0\n",
    "        with torch.no_grad():\n",
    "            for inputs, labels in val_loader:\n",
    "                inputs, labels = inputs.to(device), labels.to(device)\n",
    "                outputs = model(inputs)\n",
    "                loss = criterion(outputs, labels)\n",
    "                val_loss += loss.item()\n",
    "                _, predicted = outputs.max(1)\n",
    "                val_total += labels.size(0)\n",
    "                val_correct += predicted.eq(labels).sum().item()\n",
    "        \n",
    "        val_loss /= len(val_loader)\n",
    "        val_accuracy = 100. * val_correct / val_total\n",
    "        val_losses.append(val_loss)\n",
    "        \n",
    "        print(f'\\nEpoch {epoch+1}/{num_epochs}{fold_str}: Validation Loss: {val_loss:.4f}, Accuracy: {val_accuracy:.2f}%')\n",
    "        \n",
    "        early_stopping(val_loss)\n",
    "        if early_stopping.early_stop:\n",
    "            print(f\"Early stopping triggered{fold_str}\")\n",
    "            break\n",
    "        \n",
    "        scheduler.step(val_accuracy)\n",
    "        if val_accuracy > best_val_acc:\n",
    "            best_val_acc = val_accuracy\n",
    "            if fold is not None:\n",
    "                torch.save(model.state_dict(), f'best_model_fold{fold}.pth')\n",
    "            else:\n",
    "                torch.save(model.state_dict(), 'best_model.pth')\n",
    "\n",
    "    if fold is not None:\n",
    "        plot_loss(train_losses, val_losses, fold)\n",
    "    else:\n",
    "        plot_loss(train_losses, val_losses)\n",
    "        \n",
    "    return best_val_acc\n",
    "\n",
    "def plot_loss(train_losses, val_losses, fold=None):\n",
    "    plt.figure(figsize=(8, 5))\n",
    "    plt.plot(train_losses, label='Train Loss')\n",
    "    plt.plot(val_losses, label='Validation Loss')\n",
    "    plt.xlabel('Epochs')\n",
    "    plt.ylabel('Loss')\n",
    "    plt.legend()\n",
    "    title = 'Training & Validation Loss'\n",
    "    if fold is not None:\n",
    "        title += f' (Fold {fold})'\n",
    "    plt.title(title)\n",
    "    plt.savefig(f'loss_plot{\"_fold\" + str(fold) if fold is not None else \"\"}.png')\n",
    "    plt.close()\n",
    "\n",
    "def evaluate_model(model, loader, num_classes=10, fold=None):\n",
    "    model.eval()\n",
    "    correct, total = 0, 0\n",
    "    all_preds, all_labels = [], []\n",
    "    \n",
    "    with torch.no_grad():\n",
    "        for inputs, labels in tqdm(loader, desc=f'Evaluating{\"\" if fold is None else \" (Fold \" + str(fold) + \")\"}'):\n",
    "            inputs, labels = inputs.to(device), labels.to(device)\n",
    "            outputs = model(inputs)\n",
    "            _, predicted = outputs.max(1)\n",
    "            total += labels.size(0)\n",
    "            correct += predicted.eq(labels).sum().item()\n",
    "            all_preds.extend(predicted.cpu().numpy())\n",
    "            all_labels.extend(labels.cpu().numpy())\n",
    "    \n",
    "    accuracy = 100. * correct / total\n",
    "    print(f'Accuracy: {accuracy:.2f}%')\n",
    "    \n",
    "    conf_matrix = confusion_matrix(all_labels, all_preds)\n",
    "    plt.figure(figsize=(10, 8))\n",
    "    sns.heatmap(conf_matrix, annot=True, fmt='d', cmap='Blues', xticklabels=range(num_classes), yticklabels=range(num_classes))\n",
    "    plt.xlabel('Predicted')\n",
    "    plt.ylabel('Actual')\n",
    "    title = 'Confusion Matrix'\n",
    "    if fold is not None:\n",
    "        title += f' (Fold {fold})'\n",
    "    plt.title(title)\n",
    "    plt.savefig(f'confusion_matrix{\"_fold\" + str(fold) if fold is not None else \"\"}.png')\n",
    "    plt.close()\n",
    "    \n",
    "    print(\"\\nClassification Report:\\n\", classification_report(all_labels, all_preds, digits=4))\n",
    "\n",
    "    return accuracy\n",
    "\n",
    "def k_fold_cross_validation(dataset, num_folds=5, num_classes=10, num_epochs=30):\n",
    "    # First, check that the dataset is loaded properly\n",
    "    print(f\"Dataset contains {len(dataset)} samples\")\n",
    "    if len(dataset) == 0:\n",
    "        print(\"ERROR: Dataset is empty! Check the data directory path.\")\n",
    "        return 0\n",
    "    \n",
    "    # Print some sample filenames to verify\n",
    "    print(f\"Sample image filenames: {dataset.image_files[:3]}\")\n",
    "    \n",
    "    # Initialize k-fold cross validation\n",
    "    kfold = KFold(n_splits=num_folds, shuffle=True, random_state=42)\n",
    "    \n",
    "    # Store accuracy for each fold\n",
    "    fold_accuracies = []\n",
    "    \n",
    "    # Create indices for KFold to use\n",
    "    indices = list(range(len(dataset)))\n",
    "    \n",
    "    # Loop through each fold\n",
    "    for fold, (train_ids, val_ids) in enumerate(kfold.split(indices)):\n",
    "        print(f\"\\n{'='*20} FOLD {fold+1}/{num_folds} {'='*20}\")\n",
    "        \n",
    "        # Create data samplers for train and validation sets\n",
    "        train_sampler = SubsetRandomSampler(train_ids)\n",
    "        val_sampler = SubsetRandomSampler(val_ids)\n",
    "        \n",
    "        # Create data loaders for current fold\n",
    "        train_loader = DataLoader(dataset, batch_size=32, sampler=train_sampler)\n",
    "        val_loader = DataLoader(dataset, batch_size=32, sampler=val_sampler)\n",
    "        \n",
    "        # Initialize model, criterion, optimizer, and early stopping for current fold\n",
    "        model = GalaxyCNN(num_classes=num_classes).to(device)\n",
    "        \n",
    "        # Get class weights for criterion from the dataset\n",
    "        class_weights = torch.FloatTensor([1.0/1081, 1.0/1853, 1.0/2645, 1.0/2027, 1.0/334, \n",
    "                                          1.0/2043, 1.0/1829, 1.0/2628, 1.0/1423, 1.0/1873]).to(device)\n",
    "        criterion = nn.CrossEntropyLoss(weight=class_weights)\n",
    "        optimizer = optim.AdamW(model.parameters(), lr=0.001, weight_decay=0.01)\n",
    "        early_stopping = EarlyStopping(patience=5, verbose=True, delta=0.01)\n",
    "        scheduler = optim.lr_scheduler.ReduceLROnPlateau(optimizer, mode='max', factor=0.1, patience=3, verbose=True, min_lr=1e-6)\n",
    "        \n",
    "        # Train and evaluate model for current fold\n",
    "        train_model(model, train_loader, val_loader, criterion, optimizer, scheduler, early_stopping, num_epochs, fold+1)\n",
    "        accuracy = evaluate_model(model, val_loader, num_classes, fold+1)\n",
    "        fold_accuracies.append(accuracy)\n",
    "        \n",
    "        # Save model for current fold\n",
    "        torch.save(model.state_dict(), f\"galaxy_cnn_fold{fold+1}.pth\")\n",
    "        \n",
    "    # Print average and per-fold accuracies\n",
    "    print(\"\\n\" + \"=\"*50)\n",
    "    print(f\"K-Fold Cross-Validation Results for {num_folds} Folds\")\n",
    "    print(\"=\"*50)\n",
    "    print(f\"Average Accuracy: {np.mean(fold_accuracies):.2f}% (±{np.std(fold_accuracies):.2f}%)\")\n",
    "    print(\"\\nPer-fold Accuracy:\")\n",
    "    for fold, accuracy in enumerate(fold_accuracies):\n",
    "        print(f\"Fold {fold+1}: {accuracy:.2f}%\")\n",
    "    print(\"=\"*50)\n",
    "    \n",
    "    # Return average accuracy\n",
    "    return np.mean(fold_accuracies)\n",
    "\n",
    "# Dataset path\n",
    "data_dir = os.path.expanduser(\"Decals_data/Decals_data_images\")\n",
    "\n",
    "# Check if data directory exists\n",
    "if not os.path.exists(data_dir):\n",
    "    print(f\"ERROR: Data directory '{data_dir}' does not exist!\")\n",
    "    print(\"Please check the path and try again.\")\n",
    "    # You could add code to exit here if needed\n",
    "else:\n",
    "    print(f\"Data directory found: {data_dir}\")\n",
    "    # List first few items to verify\n",
    "    files = os.listdir(data_dir)[:5]\n",
    "    print(f\"First few files in directory: {files}\")\n",
    "\n",
    "# Create dataset\n",
    "dataset = GalaxyDataset(root_dir=data_dir)\n",
    "\n",
    "# Print dataset information\n",
    "print(f\"Dataset loaded with {len(dataset)} images\")\n",
    "print(f\"Class distribution: {Counter(dataset.labels)}\")\n",
    "\n",
    "# Perform 5-fold cross-validation\n",
    "num_classes = 10  # Based on your class weights, seems like 10 classes\n",
    "num_epochs = 30    # Same as original\n",
    "k_fold_cross_validation(dataset, num_folds=5, num_classes=num_classes, num_epochs=num_epochs)\n",
    "\n",
    "# After finding the best fold, you might want to train on the entire dataset\n",
    "print(\"\\nTraining final model on the entire dataset...\")\n",
    "# Create data loader for full dataset\n",
    "train_loader = DataLoader(dataset, batch_size=32, shuffle=True)\n",
    "\n",
    "# Initialize model, criterion, optimizer, and early stopping\n",
    "model = GalaxyCNN(num_classes=num_classes).to(device)\n",
    "class_weights = torch.FloatTensor([1.0/1081, 1.0/1853, 1.0/2645, 1.0/2027, 1.0/334, \n",
    "                                  1.0/2043, 1.0/1829, 1.0/2628, 1.0/1423, 1.0/1873]).to(device)\n",
    "criterion = nn.CrossEntropyLoss(weight=class_weights)\n",
    "optimizer = optim.AdamW(model.parameters(), lr=0.001, weight_decay=0.01)\n",
    "early_stopping = EarlyStopping(patience=5, verbose=True, delta=0.01)\n",
    "scheduler = optim.lr_scheduler.ReduceLROnPlateau(optimizer, mode='max', factor=0.1, patience=3, verbose=True, min_lr=1e-6)\n",
    "\n",
    "# We need a small validation set for the scheduler and early stopping\n",
    "val_size = int(0.1 * len(dataset))\n",
    "train_size = len(dataset) - val_size\n",
    "temp_train_dataset, temp_val_dataset = random_split(dataset, [train_size, val_size])\n",
    "val_loader = DataLoader(temp_val_dataset, batch_size=32, shuffle=False)\n",
    "\n",
    "# Train final model\n",
    "train_model(model, train_loader, val_loader, criterion, optimizer, scheduler, early_stopping, num_epochs)\n",
    "\n",
    "# Save final model\n",
    "torch.save(model.state_dict(), \"galaxy_cnn_final.pth\")\n",
    "print(\"Final model saved successfully!\")"
   ]
  },
  {
   "cell_type": "code",
   "execution_count": null,
   "metadata": {},
   "outputs": [],
   "source": []
  }
 ],
 "metadata": {
  "kernelspec": {
   "display_name": "Python 3 (ipykernel)",
   "language": "python",
   "name": "python3"
  },
  "language_info": {
   "codemirror_mode": {
    "name": "ipython",
    "version": 3
   },
   "file_extension": ".py",
   "mimetype": "text/x-python",
   "name": "python",
   "nbconvert_exporter": "python",
   "pygments_lexer": "ipython3",
   "version": "3.9.21"
  }
 },
 "nbformat": 4,
 "nbformat_minor": 4
}
